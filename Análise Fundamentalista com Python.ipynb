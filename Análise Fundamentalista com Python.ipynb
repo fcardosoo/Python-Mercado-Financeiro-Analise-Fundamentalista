{
 "cells": [
  {
   "cell_type": "markdown",
   "id": "5b4755ff",
   "metadata": {},
   "source": [
    "<h1>Análise Fundamentalista com Python</h1>"
   ]
  },
  {
   "cell_type": "markdown",
   "id": "d85d26b2",
   "metadata": {},
   "source": [
    "<h2>1.0 Bibliotecas</h2>"
   ]
  },
  {
   "cell_type": "code",
   "execution_count": 2,
   "id": "da069af0",
   "metadata": {},
   "outputs": [
    {
     "name": "stderr",
     "output_type": "stream",
     "text": [
      "2023-06-07 08:11:25,397 [logging.log_init] INFO: LOGLEVEL=INFO\n"
     ]
    }
   ],
   "source": [
    "import fundamentus       as fdm\n",
    "import pandas            as pd\n",
    "import matplotlib.pyplot as plt"
   ]
  },
  {
   "cell_type": "markdown",
   "id": "84dd3505",
   "metadata": {},
   "source": [
    "<H2>2.0 Screening</H2>"
   ]
  },
  {
   "cell_type": "code",
   "execution_count": 7,
   "id": "19c83a39",
   "metadata": {},
   "outputs": [
    {
     "data": {
      "text/html": [
       "<div>\n",
       "<style scoped>\n",
       "    .dataframe tbody tr th:only-of-type {\n",
       "        vertical-align: middle;\n",
       "    }\n",
       "\n",
       "    .dataframe tbody tr th {\n",
       "        vertical-align: top;\n",
       "    }\n",
       "\n",
       "    .dataframe thead th {\n",
       "        text-align: right;\n",
       "    }\n",
       "</style>\n",
       "<table border=\"1\" class=\"dataframe\">\n",
       "  <thead>\n",
       "    <tr style=\"text-align: right;\">\n",
       "      <th>Multiples</th>\n",
       "      <th>cotacao</th>\n",
       "      <th>pl</th>\n",
       "      <th>pvp</th>\n",
       "      <th>psr</th>\n",
       "      <th>dy</th>\n",
       "      <th>pa</th>\n",
       "      <th>pcg</th>\n",
       "      <th>pebit</th>\n",
       "      <th>pacl</th>\n",
       "      <th>evebit</th>\n",
       "      <th>evebitda</th>\n",
       "      <th>mrgebit</th>\n",
       "      <th>mrgliq</th>\n",
       "      <th>roic</th>\n",
       "      <th>roe</th>\n",
       "      <th>liqc</th>\n",
       "      <th>liq2m</th>\n",
       "      <th>patrliq</th>\n",
       "      <th>divbpatr</th>\n",
       "      <th>c5y</th>\n",
       "    </tr>\n",
       "    <tr>\n",
       "      <th>papel</th>\n",
       "      <th></th>\n",
       "      <th></th>\n",
       "      <th></th>\n",
       "      <th></th>\n",
       "      <th></th>\n",
       "      <th></th>\n",
       "      <th></th>\n",
       "      <th></th>\n",
       "      <th></th>\n",
       "      <th></th>\n",
       "      <th></th>\n",
       "      <th></th>\n",
       "      <th></th>\n",
       "      <th></th>\n",
       "      <th></th>\n",
       "      <th></th>\n",
       "      <th></th>\n",
       "      <th></th>\n",
       "      <th></th>\n",
       "      <th></th>\n",
       "    </tr>\n",
       "  </thead>\n",
       "  <tbody>\n",
       "    <tr>\n",
       "      <th>AALR3</th>\n",
       "      <td>23.32</td>\n",
       "      <td>-11.15</td>\n",
       "      <td>3.04</td>\n",
       "      <td>2.509</td>\n",
       "      <td>0.0000</td>\n",
       "      <td>1.073</td>\n",
       "      <td>-11.03</td>\n",
       "      <td>-2298.83</td>\n",
       "      <td>-2.30</td>\n",
       "      <td>-3015.68</td>\n",
       "      <td>31.23</td>\n",
       "      <td>-0.0011</td>\n",
       "      <td>-0.2168</td>\n",
       "      <td>-0.0005</td>\n",
       "      <td>-0.2728</td>\n",
       "      <td>0.63</td>\n",
       "      <td>5663500.0</td>\n",
       "      <td>9.069470e+08</td>\n",
       "      <td>1.12</td>\n",
       "      <td>0.0118</td>\n",
       "    </tr>\n",
       "    <tr>\n",
       "      <th>ABCB3</th>\n",
       "      <td>0.00</td>\n",
       "      <td>0.00</td>\n",
       "      <td>0.00</td>\n",
       "      <td>0.000</td>\n",
       "      <td>0.0000</td>\n",
       "      <td>0.000</td>\n",
       "      <td>0.00</td>\n",
       "      <td>0.00</td>\n",
       "      <td>0.00</td>\n",
       "      <td>0.00</td>\n",
       "      <td>0.00</td>\n",
       "      <td>0.0000</td>\n",
       "      <td>0.0000</td>\n",
       "      <td>0.0000</td>\n",
       "      <td>0.1522</td>\n",
       "      <td>0.00</td>\n",
       "      <td>0.0</td>\n",
       "      <td>5.303110e+09</td>\n",
       "      <td>0.00</td>\n",
       "      <td>0.4341</td>\n",
       "    </tr>\n",
       "    <tr>\n",
       "      <th>ABCB4</th>\n",
       "      <td>17.70</td>\n",
       "      <td>4.96</td>\n",
       "      <td>0.75</td>\n",
       "      <td>0.000</td>\n",
       "      <td>0.0612</td>\n",
       "      <td>0.000</td>\n",
       "      <td>0.00</td>\n",
       "      <td>0.00</td>\n",
       "      <td>0.00</td>\n",
       "      <td>0.00</td>\n",
       "      <td>0.00</td>\n",
       "      <td>0.0000</td>\n",
       "      <td>0.0000</td>\n",
       "      <td>0.0000</td>\n",
       "      <td>0.1522</td>\n",
       "      <td>0.00</td>\n",
       "      <td>15821600.0</td>\n",
       "      <td>5.303110e+09</td>\n",
       "      <td>0.00</td>\n",
       "      <td>0.4341</td>\n",
       "    </tr>\n",
       "    <tr>\n",
       "      <th>ABEV3</th>\n",
       "      <td>14.82</td>\n",
       "      <td>15.83</td>\n",
       "      <td>2.75</td>\n",
       "      <td>2.854</td>\n",
       "      <td>0.0514</td>\n",
       "      <td>1.723</td>\n",
       "      <td>-920.30</td>\n",
       "      <td>14.64</td>\n",
       "      <td>-17.10</td>\n",
       "      <td>14.09</td>\n",
       "      <td>10.40</td>\n",
       "      <td>0.1950</td>\n",
       "      <td>0.1856</td>\n",
       "      <td>0.1559</td>\n",
       "      <td>0.1735</td>\n",
       "      <td>0.99</td>\n",
       "      <td>347084000.0</td>\n",
       "      <td>8.499960e+10</td>\n",
       "      <td>0.04</td>\n",
       "      <td>0.1373</td>\n",
       "    </tr>\n",
       "    <tr>\n",
       "      <th>ABYA3</th>\n",
       "      <td>4.91</td>\n",
       "      <td>-214.80</td>\n",
       "      <td>1.76</td>\n",
       "      <td>2.055</td>\n",
       "      <td>0.0000</td>\n",
       "      <td>0.527</td>\n",
       "      <td>1.98</td>\n",
       "      <td>19.96</td>\n",
       "      <td>-2.75</td>\n",
       "      <td>33.67</td>\n",
       "      <td>33.67</td>\n",
       "      <td>0.1029</td>\n",
       "      <td>-0.0096</td>\n",
       "      <td>0.0278</td>\n",
       "      <td>-0.0082</td>\n",
       "      <td>2.09</td>\n",
       "      <td>0.0</td>\n",
       "      <td>2.920600e+08</td>\n",
       "      <td>1.31</td>\n",
       "      <td>0.1641</td>\n",
       "    </tr>\n",
       "  </tbody>\n",
       "</table>\n",
       "</div>"
      ],
      "text/plain": [
       "Multiples  cotacao      pl   pvp    psr      dy     pa     pcg    pebit  \\\n",
       "papel                                                                     \n",
       "AALR3        23.32  -11.15  3.04  2.509  0.0000  1.073  -11.03 -2298.83   \n",
       "ABCB3         0.00    0.00  0.00  0.000  0.0000  0.000    0.00     0.00   \n",
       "ABCB4        17.70    4.96  0.75  0.000  0.0612  0.000    0.00     0.00   \n",
       "ABEV3        14.82   15.83  2.75  2.854  0.0514  1.723 -920.30    14.64   \n",
       "ABYA3         4.91 -214.80  1.76  2.055  0.0000  0.527    1.98    19.96   \n",
       "\n",
       "Multiples   pacl   evebit  evebitda  mrgebit  mrgliq    roic     roe  liqc  \\\n",
       "papel                                                                        \n",
       "AALR3      -2.30 -3015.68     31.23  -0.0011 -0.2168 -0.0005 -0.2728  0.63   \n",
       "ABCB3       0.00     0.00      0.00   0.0000  0.0000  0.0000  0.1522  0.00   \n",
       "ABCB4       0.00     0.00      0.00   0.0000  0.0000  0.0000  0.1522  0.00   \n",
       "ABEV3     -17.10    14.09     10.40   0.1950  0.1856  0.1559  0.1735  0.99   \n",
       "ABYA3      -2.75    33.67     33.67   0.1029 -0.0096  0.0278 -0.0082  2.09   \n",
       "\n",
       "Multiples        liq2m       patrliq  divbpatr     c5y  \n",
       "papel                                                   \n",
       "AALR3        5663500.0  9.069470e+08      1.12  0.0118  \n",
       "ABCB3              0.0  5.303110e+09      0.00  0.4341  \n",
       "ABCB4       15821600.0  5.303110e+09      0.00  0.4341  \n",
       "ABEV3      347084000.0  8.499960e+10      0.04  0.1373  \n",
       "ABYA3              0.0  2.920600e+08      1.31  0.1641  "
      ]
     },
     "execution_count": 7,
     "metadata": {},
     "output_type": "execute_result"
    }
   ],
   "source": [
    "# get_resultado acessa a base de dados do site 'fundamentus' e retorna todos os indicadores fundamentalistas de todos os ativos\n",
    "# listados na B3.\n",
    "\n",
    "df = fdm.get_resultado()\n",
    "df.head()"
   ]
  },
  {
   "cell_type": "code",
   "execution_count": 8,
   "id": "3bec97e1",
   "metadata": {},
   "outputs": [
    {
     "name": "stdout",
     "output_type": "stream",
     "text": [
      "Index(['cotacao', 'pl', 'pvp', 'psr', 'dy', 'pa', 'pcg', 'pebit', 'pacl',\n",
      "       'evebit', 'evebitda', 'mrgebit', 'mrgliq', 'roic', 'roe', 'liqc',\n",
      "       'liq2m', 'patrliq', 'divbpatr', 'c5y'],\n",
      "      dtype='object', name='Multiples')\n"
     ]
    }
   ],
   "source": [
    "# Verificando as colunas presentes no df\n",
    "\n",
    "print(df.columns)"
   ]
  },
  {
   "cell_type": "code",
   "execution_count": 15,
   "id": "a7bca6ef",
   "metadata": {},
   "outputs": [
    {
     "data": {
      "text/plain": [
       "Multiples\n",
       "cotacao     2.805000e+01\n",
       "pl          2.010000e+00\n",
       "pvp         9.100000e-01\n",
       "psr         5.730000e-01\n",
       "dy          4.613000e-01\n",
       "pa          3.740000e-01\n",
       "pcg         1.273000e+01\n",
       "pebit       1.220000e+00\n",
       "pacl       -8.800000e-01\n",
       "evebit      1.900000e+00\n",
       "evebitda    1.520000e+00\n",
       "mrgebit     4.695000e-01\n",
       "mrgliq      2.858000e-01\n",
       "roic        3.384000e-01\n",
       "roe         4.525000e-01\n",
       "liqc        1.220000e+00\n",
       "liq2m       1.637530e+09\n",
       "patrliq     4.020840e+11\n",
       "divbpatr    6.700000e-01\n",
       "c5y         1.861000e-01\n",
       "Name: PETR4, dtype: float64"
      ]
     },
     "execution_count": 15,
     "metadata": {},
     "output_type": "execute_result"
    }
   ],
   "source": [
    "# Filtrando um ativo específico\n",
    "\n",
    "df.loc['PETR4']"
   ]
  },
  {
   "cell_type": "code",
   "execution_count": 17,
   "id": "8e713127",
   "metadata": {},
   "outputs": [
    {
     "ename": "KeyError",
     "evalue": "\"['GNDE3'] not in index\"",
     "output_type": "error",
     "traceback": [
      "\u001b[1;31m---------------------------------------------------------------------------\u001b[0m",
      "\u001b[1;31mKeyError\u001b[0m                                  Traceback (most recent call last)",
      "Cell \u001b[1;32mIn[17], line 3\u001b[0m\n\u001b[0;32m      1\u001b[0m \u001b[38;5;66;03m# Filtrando apenas o PL um ativo específico\u001b[39;00m\n\u001b[1;32m----> 3\u001b[0m \u001b[43mdf\u001b[49m\u001b[38;5;241;43m.\u001b[39;49m\u001b[43mloc\u001b[49m\u001b[43m[\u001b[49m\u001b[43m[\u001b[49m\u001b[38;5;124;43m'\u001b[39;49m\u001b[38;5;124;43mPETR4\u001b[39;49m\u001b[38;5;124;43m'\u001b[39;49m\u001b[43m,\u001b[49m\u001b[43m \u001b[49m\u001b[38;5;124;43m'\u001b[39;49m\u001b[38;5;124;43mGNDE3\u001b[39;49m\u001b[38;5;124;43m'\u001b[39;49m\u001b[43m]\u001b[49m\u001b[43m,\u001b[49m\u001b[43m \u001b[49m\u001b[43m[\u001b[49m\u001b[38;5;124;43m'\u001b[39;49m\u001b[38;5;124;43mpl\u001b[39;49m\u001b[38;5;124;43m'\u001b[39;49m\u001b[43m]\u001b[49m\u001b[43m]\u001b[49m\n",
      "File \u001b[1;32m~\\anaconda3\\lib\\site-packages\\pandas\\core\\indexing.py:1067\u001b[0m, in \u001b[0;36m_LocationIndexer.__getitem__\u001b[1;34m(self, key)\u001b[0m\n\u001b[0;32m   1065\u001b[0m     \u001b[38;5;28;01mif\u001b[39;00m \u001b[38;5;28mself\u001b[39m\u001b[38;5;241m.\u001b[39m_is_scalar_access(key):\n\u001b[0;32m   1066\u001b[0m         \u001b[38;5;28;01mreturn\u001b[39;00m \u001b[38;5;28mself\u001b[39m\u001b[38;5;241m.\u001b[39mobj\u001b[38;5;241m.\u001b[39m_get_value(\u001b[38;5;241m*\u001b[39mkey, takeable\u001b[38;5;241m=\u001b[39m\u001b[38;5;28mself\u001b[39m\u001b[38;5;241m.\u001b[39m_takeable)\n\u001b[1;32m-> 1067\u001b[0m     \u001b[38;5;28;01mreturn\u001b[39;00m \u001b[38;5;28;43mself\u001b[39;49m\u001b[38;5;241;43m.\u001b[39;49m\u001b[43m_getitem_tuple\u001b[49m\u001b[43m(\u001b[49m\u001b[43mkey\u001b[49m\u001b[43m)\u001b[49m\n\u001b[0;32m   1068\u001b[0m \u001b[38;5;28;01melse\u001b[39;00m:\n\u001b[0;32m   1069\u001b[0m     \u001b[38;5;66;03m# we by definition only have the 0th axis\u001b[39;00m\n\u001b[0;32m   1070\u001b[0m     axis \u001b[38;5;241m=\u001b[39m \u001b[38;5;28mself\u001b[39m\u001b[38;5;241m.\u001b[39maxis \u001b[38;5;129;01mor\u001b[39;00m \u001b[38;5;241m0\u001b[39m\n",
      "File \u001b[1;32m~\\anaconda3\\lib\\site-packages\\pandas\\core\\indexing.py:1254\u001b[0m, in \u001b[0;36m_LocIndexer._getitem_tuple\u001b[1;34m(self, tup)\u001b[0m\n\u001b[0;32m   1252\u001b[0m \u001b[38;5;66;03m# ugly hack for GH #836\u001b[39;00m\n\u001b[0;32m   1253\u001b[0m \u001b[38;5;28;01mif\u001b[39;00m \u001b[38;5;28mself\u001b[39m\u001b[38;5;241m.\u001b[39m_multi_take_opportunity(tup):\n\u001b[1;32m-> 1254\u001b[0m     \u001b[38;5;28;01mreturn\u001b[39;00m \u001b[38;5;28;43mself\u001b[39;49m\u001b[38;5;241;43m.\u001b[39;49m\u001b[43m_multi_take\u001b[49m\u001b[43m(\u001b[49m\u001b[43mtup\u001b[49m\u001b[43m)\u001b[49m\n\u001b[0;32m   1256\u001b[0m \u001b[38;5;28;01mreturn\u001b[39;00m \u001b[38;5;28mself\u001b[39m\u001b[38;5;241m.\u001b[39m_getitem_tuple_same_dim(tup)\n",
      "File \u001b[1;32m~\\anaconda3\\lib\\site-packages\\pandas\\core\\indexing.py:1205\u001b[0m, in \u001b[0;36m_LocIndexer._multi_take\u001b[1;34m(self, tup)\u001b[0m\n\u001b[0;32m   1189\u001b[0m \u001b[38;5;124;03m\"\"\"\u001b[39;00m\n\u001b[0;32m   1190\u001b[0m \u001b[38;5;124;03mCreate the indexers for the passed tuple of keys, and\u001b[39;00m\n\u001b[0;32m   1191\u001b[0m \u001b[38;5;124;03mexecutes the take operation. This allows the take operation to be\u001b[39;00m\n\u001b[1;32m   (...)\u001b[0m\n\u001b[0;32m   1202\u001b[0m \u001b[38;5;124;03mvalues: same type as the object being indexed\u001b[39;00m\n\u001b[0;32m   1203\u001b[0m \u001b[38;5;124;03m\"\"\"\u001b[39;00m\n\u001b[0;32m   1204\u001b[0m \u001b[38;5;66;03m# GH 836\u001b[39;00m\n\u001b[1;32m-> 1205\u001b[0m d \u001b[38;5;241m=\u001b[39m {\n\u001b[0;32m   1206\u001b[0m     axis: \u001b[38;5;28mself\u001b[39m\u001b[38;5;241m.\u001b[39m_get_listlike_indexer(key, axis)\n\u001b[0;32m   1207\u001b[0m     \u001b[38;5;28;01mfor\u001b[39;00m (key, axis) \u001b[38;5;129;01min\u001b[39;00m \u001b[38;5;28mzip\u001b[39m(tup, \u001b[38;5;28mself\u001b[39m\u001b[38;5;241m.\u001b[39mobj\u001b[38;5;241m.\u001b[39m_AXIS_ORDERS)\n\u001b[0;32m   1208\u001b[0m }\n\u001b[0;32m   1209\u001b[0m \u001b[38;5;28;01mreturn\u001b[39;00m \u001b[38;5;28mself\u001b[39m\u001b[38;5;241m.\u001b[39mobj\u001b[38;5;241m.\u001b[39m_reindex_with_indexers(d, copy\u001b[38;5;241m=\u001b[39m\u001b[38;5;28;01mTrue\u001b[39;00m, allow_dups\u001b[38;5;241m=\u001b[39m\u001b[38;5;28;01mTrue\u001b[39;00m)\n",
      "File \u001b[1;32m~\\anaconda3\\lib\\site-packages\\pandas\\core\\indexing.py:1206\u001b[0m, in \u001b[0;36m<dictcomp>\u001b[1;34m(.0)\u001b[0m\n\u001b[0;32m   1189\u001b[0m \u001b[38;5;124;03m\"\"\"\u001b[39;00m\n\u001b[0;32m   1190\u001b[0m \u001b[38;5;124;03mCreate the indexers for the passed tuple of keys, and\u001b[39;00m\n\u001b[0;32m   1191\u001b[0m \u001b[38;5;124;03mexecutes the take operation. This allows the take operation to be\u001b[39;00m\n\u001b[1;32m   (...)\u001b[0m\n\u001b[0;32m   1202\u001b[0m \u001b[38;5;124;03mvalues: same type as the object being indexed\u001b[39;00m\n\u001b[0;32m   1203\u001b[0m \u001b[38;5;124;03m\"\"\"\u001b[39;00m\n\u001b[0;32m   1204\u001b[0m \u001b[38;5;66;03m# GH 836\u001b[39;00m\n\u001b[0;32m   1205\u001b[0m d \u001b[38;5;241m=\u001b[39m {\n\u001b[1;32m-> 1206\u001b[0m     axis: \u001b[38;5;28;43mself\u001b[39;49m\u001b[38;5;241;43m.\u001b[39;49m\u001b[43m_get_listlike_indexer\u001b[49m\u001b[43m(\u001b[49m\u001b[43mkey\u001b[49m\u001b[43m,\u001b[49m\u001b[43m \u001b[49m\u001b[43maxis\u001b[49m\u001b[43m)\u001b[49m\n\u001b[0;32m   1207\u001b[0m     \u001b[38;5;28;01mfor\u001b[39;00m (key, axis) \u001b[38;5;129;01min\u001b[39;00m \u001b[38;5;28mzip\u001b[39m(tup, \u001b[38;5;28mself\u001b[39m\u001b[38;5;241m.\u001b[39mobj\u001b[38;5;241m.\u001b[39m_AXIS_ORDERS)\n\u001b[0;32m   1208\u001b[0m }\n\u001b[0;32m   1209\u001b[0m \u001b[38;5;28;01mreturn\u001b[39;00m \u001b[38;5;28mself\u001b[39m\u001b[38;5;241m.\u001b[39mobj\u001b[38;5;241m.\u001b[39m_reindex_with_indexers(d, copy\u001b[38;5;241m=\u001b[39m\u001b[38;5;28;01mTrue\u001b[39;00m, allow_dups\u001b[38;5;241m=\u001b[39m\u001b[38;5;28;01mTrue\u001b[39;00m)\n",
      "File \u001b[1;32m~\\anaconda3\\lib\\site-packages\\pandas\\core\\indexing.py:1432\u001b[0m, in \u001b[0;36m_LocIndexer._get_listlike_indexer\u001b[1;34m(self, key, axis)\u001b[0m\n\u001b[0;32m   1429\u001b[0m ax \u001b[38;5;241m=\u001b[39m \u001b[38;5;28mself\u001b[39m\u001b[38;5;241m.\u001b[39mobj\u001b[38;5;241m.\u001b[39m_get_axis(axis)\n\u001b[0;32m   1430\u001b[0m axis_name \u001b[38;5;241m=\u001b[39m \u001b[38;5;28mself\u001b[39m\u001b[38;5;241m.\u001b[39mobj\u001b[38;5;241m.\u001b[39m_get_axis_name(axis)\n\u001b[1;32m-> 1432\u001b[0m keyarr, indexer \u001b[38;5;241m=\u001b[39m \u001b[43max\u001b[49m\u001b[38;5;241;43m.\u001b[39;49m\u001b[43m_get_indexer_strict\u001b[49m\u001b[43m(\u001b[49m\u001b[43mkey\u001b[49m\u001b[43m,\u001b[49m\u001b[43m \u001b[49m\u001b[43maxis_name\u001b[49m\u001b[43m)\u001b[49m\n\u001b[0;32m   1434\u001b[0m \u001b[38;5;28;01mreturn\u001b[39;00m keyarr, indexer\n",
      "File \u001b[1;32m~\\anaconda3\\lib\\site-packages\\pandas\\core\\indexes\\base.py:6070\u001b[0m, in \u001b[0;36mIndex._get_indexer_strict\u001b[1;34m(self, key, axis_name)\u001b[0m\n\u001b[0;32m   6067\u001b[0m \u001b[38;5;28;01melse\u001b[39;00m:\n\u001b[0;32m   6068\u001b[0m     keyarr, indexer, new_indexer \u001b[38;5;241m=\u001b[39m \u001b[38;5;28mself\u001b[39m\u001b[38;5;241m.\u001b[39m_reindex_non_unique(keyarr)\n\u001b[1;32m-> 6070\u001b[0m \u001b[38;5;28;43mself\u001b[39;49m\u001b[38;5;241;43m.\u001b[39;49m\u001b[43m_raise_if_missing\u001b[49m\u001b[43m(\u001b[49m\u001b[43mkeyarr\u001b[49m\u001b[43m,\u001b[49m\u001b[43m \u001b[49m\u001b[43mindexer\u001b[49m\u001b[43m,\u001b[49m\u001b[43m \u001b[49m\u001b[43maxis_name\u001b[49m\u001b[43m)\u001b[49m\n\u001b[0;32m   6072\u001b[0m keyarr \u001b[38;5;241m=\u001b[39m \u001b[38;5;28mself\u001b[39m\u001b[38;5;241m.\u001b[39mtake(indexer)\n\u001b[0;32m   6073\u001b[0m \u001b[38;5;28;01mif\u001b[39;00m \u001b[38;5;28misinstance\u001b[39m(key, Index):\n\u001b[0;32m   6074\u001b[0m     \u001b[38;5;66;03m# GH 42790 - Preserve name from an Index\u001b[39;00m\n",
      "File \u001b[1;32m~\\anaconda3\\lib\\site-packages\\pandas\\core\\indexes\\base.py:6133\u001b[0m, in \u001b[0;36mIndex._raise_if_missing\u001b[1;34m(self, key, indexer, axis_name)\u001b[0m\n\u001b[0;32m   6130\u001b[0m     \u001b[38;5;28;01mraise\u001b[39;00m \u001b[38;5;167;01mKeyError\u001b[39;00m(\u001b[38;5;124mf\u001b[39m\u001b[38;5;124m\"\u001b[39m\u001b[38;5;124mNone of [\u001b[39m\u001b[38;5;132;01m{\u001b[39;00mkey\u001b[38;5;132;01m}\u001b[39;00m\u001b[38;5;124m] are in the [\u001b[39m\u001b[38;5;132;01m{\u001b[39;00maxis_name\u001b[38;5;132;01m}\u001b[39;00m\u001b[38;5;124m]\u001b[39m\u001b[38;5;124m\"\u001b[39m)\n\u001b[0;32m   6132\u001b[0m not_found \u001b[38;5;241m=\u001b[39m \u001b[38;5;28mlist\u001b[39m(ensure_index(key)[missing_mask\u001b[38;5;241m.\u001b[39mnonzero()[\u001b[38;5;241m0\u001b[39m]]\u001b[38;5;241m.\u001b[39munique())\n\u001b[1;32m-> 6133\u001b[0m \u001b[38;5;28;01mraise\u001b[39;00m \u001b[38;5;167;01mKeyError\u001b[39;00m(\u001b[38;5;124mf\u001b[39m\u001b[38;5;124m\"\u001b[39m\u001b[38;5;132;01m{\u001b[39;00mnot_found\u001b[38;5;132;01m}\u001b[39;00m\u001b[38;5;124m not in index\u001b[39m\u001b[38;5;124m\"\u001b[39m)\n",
      "\u001b[1;31mKeyError\u001b[0m: \"['GNDE3'] not in index\""
     ]
    }
   ],
   "source": [
    "# Filtrando apenas o PL um ativo específico\n",
    "\n",
    "df.loc[['PETR4', 'GNDI3'], ['pl']]"
   ]
  },
  {
   "cell_type": "code",
   "execution_count": null,
   "id": "ca832c70",
   "metadata": {},
   "outputs": [],
   "source": []
  }
 ],
 "metadata": {
  "kernelspec": {
   "display_name": "Python 3 (ipykernel)",
   "language": "python",
   "name": "python3"
  },
  "language_info": {
   "codemirror_mode": {
    "name": "ipython",
    "version": 3
   },
   "file_extension": ".py",
   "mimetype": "text/x-python",
   "name": "python",
   "nbconvert_exporter": "python",
   "pygments_lexer": "ipython3",
   "version": "3.10.9"
  }
 },
 "nbformat": 4,
 "nbformat_minor": 5
}
